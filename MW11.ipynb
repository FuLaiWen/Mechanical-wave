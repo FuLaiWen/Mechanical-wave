{
 "cells": [
  {
   "cell_type": "markdown",
   "metadata": {},
   "source": [
    "# Stardist Segmentation (use your own models)\n",
    "\n",
    "(Reference:https://github.com/mpicbg-csbd/stardist/blob/master/examples/other2D/export_imagej_rois.ipynb)\n",
    "\n",
    "This macro will export **label images** and **ROI information** with your own trained medel.\n",
    "\n",
    "Be sure to check the input images size are similar to model sourse images size\n",
    "\n",
    "For example, if you enlarge imgs size 4 times to train the model (25x25pixel->100x100pixel), here you have to also enlarge your raw imgs size 4 times before segmentation. After segmentation, if you want the correct information, you have to shrink the label imgs and divide the ROI values by 4."
   ]
  },
  {
   "cell_type": "code",
   "execution_count": null,
   "metadata": {},
   "outputs": [],
   "source": [
    "##Install packages which are not included in Google Colab.\n",
    "!pip install tifffile # contains tools to operate tiff-files\n",
    "!pip install csbdeep  # contains tools for restoration of fluorescence microcopy images (Content-aware Image Restoration, CARE). It uses Keras and Tensorflow.\n",
    "!pip install stardist # contains tools to operate STARDIST.\n",
    "!pip install edt\n",
    "!pip install wget"
   ]
  },
  {
   "cell_type": "code",
   "execution_count": 1,
   "metadata": {},
   "outputs": [
    {
     "name": "stderr",
     "output_type": "stream",
     "text": [
      "Using TensorFlow backend.\n"
     ]
    }
   ],
   "source": [
    "from __future__ import print_function, unicode_literals, absolute_import, division\n",
    "import numpy as np\n",
    "import matplotlib.pyplot as plt\n",
    "import os.path\n",
    "%matplotlib inline\n",
    "%config InlineBackend.figure_format = 'retina'\n",
    "\n",
    "from glob import glob\n",
    "from tqdm import tqdm\n",
    "from tifffile import imread\n",
    "from csbdeep.utils import Path, normalize\n",
    "from csbdeep.io import save_tiff_imagej_compatible\n",
    "\n",
    "from stardist import export_imagej_rois, random_label_cmap, _draw_polygons\n",
    "from stardist.models import StarDist2D"
   ]
  },
  {
   "cell_type": "markdown",
   "metadata": {},
   "source": [
    "# Variables\n",
    "\n",
    "input imgs folder : containing the splitted img stack(format:tif)\n",
    "\n",
    "use trained model : model name & model base directory(where containing all models)\n",
    "\n",
    "output_path : where you want to save the results(it will create a folder(the last path eg:/Prediction_output) contains the results)"
   ]
  },
  {
   "cell_type": "code",
   "execution_count": null,
   "metadata": {},
   "outputs": [],
   "source": [
    "##Connect!\n",
    "from google.colab import drive\n",
    "drive.mount('/content/gdrive')"
   ]
  },
  {
   "cell_type": "code",
   "execution_count": 2,
   "metadata": {},
   "outputs": [],
   "source": [
    "# input imgs folder\n",
    "open_path = 'V:/Marco/Wound Healing/Triangulation analysis/50%_1stcut_M197B_2'\n",
    "\n",
    "# trained model\n",
    "model_name = 'Fishn32e400s100resize5'\n",
    "model_basedir = 'C:/Users/mengwei.HIVE2008/00MengPython/2DStarDist/models'\n",
    "\n",
    "# Where you want to create output folder\n",
    "output_path = 'V:/Marco/Wound Healing/Triangulation analysis/50%_1stcut_M197B_2_output'"
   ]
  },
  {
   "cell_type": "markdown",
   "metadata": {},
   "source": [
    "# Load datas & model"
   ]
  },
  {
   "cell_type": "code",
   "execution_count": 3,
   "metadata": {},
   "outputs": [
    {
     "name": "stdout",
     "output_type": "stream",
     "text": [
      "WARNING:tensorflow:From C:\\Users\\mengwei.HIVE2008\\anaconda3\\envs\\TFgpu\\lib\\site-packages\\tensorflow\\python\\ops\\resource_variable_ops.py:435: colocate_with (from tensorflow.python.framework.ops) is deprecated and will be removed in a future version.\n",
      "Instructions for updating:\n",
      "Colocations handled automatically by placer.\n",
      "Loading network weights from 'weights_best.h5'.\n",
      "Loading thresholds from 'thresholds.json'.\n",
      "Using default values: prob_thresh=0.487325, nms_thresh=0.3.\n"
     ]
    }
   ],
   "source": [
    "complete_open_path = os.path.join(open_path,'*.tif')\n",
    "X = sorted(glob(complete_open_path))\n",
    "X = list(map(imread,X))\n",
    "\n",
    "n_channel = 1 if X[0].ndim == 2 else X[0].shape[-1]\n",
    "axis_norm = (0,1)   # normalize channels independently\n",
    "\n",
    "# model = StarDist2D.from_pretrained('2D_versatile_fluo') # it is pretrained model, can try it if you want.\n",
    "model = StarDist2D(None, name=model_name, basedir=model_basedir)\n",
    "\n",
    "if os.path.exists(output_path) == False:\n",
    "    os.makedirs(output_path)\n",
    "os.makedirs(output_path+\"/\"+\"/label(resize)\")\n",
    "os.makedirs(output_path+\"/\"+\"/roi(resize)\")\n",
    "os.makedirs(output_path+\"/\"+\"/quality\")\n",
    "os.makedirs(output_path+\"/\"+\"/quality2\")\n",
    "save_label_path = output_path+\"/\"+\"/label(resize)\"\n",
    "save_roi_path = output_path+\"/\"+\"/roi(resize)\"\n",
    "save_q_path = output_path+\"/\"+\"/quality\"\n",
    "save_q2_path = output_path+\"/\"+\"/quality2\""
   ]
  },
  {
   "cell_type": "markdown",
   "metadata": {},
   "source": [
    "# Processing\n",
    "\n",
    "Once it print \"Finished\", mission complete."
   ]
  },
  {
   "cell_type": "code",
   "execution_count": null,
   "metadata": {
    "scrolled": false
   },
   "outputs": [
    {
     "name": "stdout",
     "output_type": "stream",
     "text": [
      "processing  0001\n"
     ]
    },
    {
     "name": "stderr",
     "output_type": "stream",
     "text": [
      "C:\\Users\\mengwei.HIVE2008\\anaconda3\\envs\\TFgpu\\lib\\site-packages\\ipykernel_launcher.py:28: UserWarning: Matplotlib is currently using agg, which is a non-GUI backend, so cannot show the figure.\n",
      "C:\\Users\\mengwei.HIVE2008\\anaconda3\\envs\\TFgpu\\lib\\site-packages\\csbdeep\\io\\__init__.py:40: UserWarning: Converting data type from 'int32' to ImageJ-compatible 'int16'.\n",
      "  warnings.warn(\"Converting data type from '%s' to ImageJ-compatible '%s'.\" % (t, np.dtype(t_new)))\n"
     ]
    },
    {
     "name": "stdout",
     "output_type": "stream",
     "text": [
      "processing  0002\n"
     ]
    },
    {
     "name": "stderr",
     "output_type": "stream",
     "text": [
      "C:\\Users\\mengwei.HIVE2008\\anaconda3\\envs\\TFgpu\\lib\\site-packages\\ipykernel_launcher.py:28: UserWarning: Matplotlib is currently using agg, which is a non-GUI backend, so cannot show the figure.\n",
      "C:\\Users\\mengwei.HIVE2008\\anaconda3\\envs\\TFgpu\\lib\\site-packages\\csbdeep\\io\\__init__.py:40: UserWarning: Converting data type from 'int32' to ImageJ-compatible 'int16'.\n",
      "  warnings.warn(\"Converting data type from '%s' to ImageJ-compatible '%s'.\" % (t, np.dtype(t_new)))\n"
     ]
    },
    {
     "name": "stdout",
     "output_type": "stream",
     "text": [
      "processing  0003\n"
     ]
    },
    {
     "name": "stderr",
     "output_type": "stream",
     "text": [
      "C:\\Users\\mengwei.HIVE2008\\anaconda3\\envs\\TFgpu\\lib\\site-packages\\ipykernel_launcher.py:28: UserWarning: Matplotlib is currently using agg, which is a non-GUI backend, so cannot show the figure.\n",
      "C:\\Users\\mengwei.HIVE2008\\anaconda3\\envs\\TFgpu\\lib\\site-packages\\csbdeep\\io\\__init__.py:40: UserWarning: Converting data type from 'int32' to ImageJ-compatible 'int16'.\n",
      "  warnings.warn(\"Converting data type from '%s' to ImageJ-compatible '%s'.\" % (t, np.dtype(t_new)))\n"
     ]
    },
    {
     "name": "stdout",
     "output_type": "stream",
     "text": [
      "processing  0004\n"
     ]
    },
    {
     "name": "stderr",
     "output_type": "stream",
     "text": [
      "C:\\Users\\mengwei.HIVE2008\\anaconda3\\envs\\TFgpu\\lib\\site-packages\\ipykernel_launcher.py:28: UserWarning: Matplotlib is currently using agg, which is a non-GUI backend, so cannot show the figure.\n",
      "C:\\Users\\mengwei.HIVE2008\\anaconda3\\envs\\TFgpu\\lib\\site-packages\\csbdeep\\io\\__init__.py:40: UserWarning: Converting data type from 'int32' to ImageJ-compatible 'int16'.\n",
      "  warnings.warn(\"Converting data type from '%s' to ImageJ-compatible '%s'.\" % (t, np.dtype(t_new)))\n"
     ]
    },
    {
     "name": "stdout",
     "output_type": "stream",
     "text": [
      "processing  0005\n"
     ]
    },
    {
     "name": "stderr",
     "output_type": "stream",
     "text": [
      "C:\\Users\\mengwei.HIVE2008\\anaconda3\\envs\\TFgpu\\lib\\site-packages\\ipykernel_launcher.py:28: UserWarning: Matplotlib is currently using agg, which is a non-GUI backend, so cannot show the figure.\n",
      "C:\\Users\\mengwei.HIVE2008\\anaconda3\\envs\\TFgpu\\lib\\site-packages\\csbdeep\\io\\__init__.py:40: UserWarning: Converting data type from 'int32' to ImageJ-compatible 'int16'.\n",
      "  warnings.warn(\"Converting data type from '%s' to ImageJ-compatible '%s'.\" % (t, np.dtype(t_new)))\n"
     ]
    },
    {
     "name": "stdout",
     "output_type": "stream",
     "text": [
      "processing  0006\n"
     ]
    },
    {
     "name": "stderr",
     "output_type": "stream",
     "text": [
      "C:\\Users\\mengwei.HIVE2008\\anaconda3\\envs\\TFgpu\\lib\\site-packages\\ipykernel_launcher.py:28: UserWarning: Matplotlib is currently using agg, which is a non-GUI backend, so cannot show the figure.\n",
      "C:\\Users\\mengwei.HIVE2008\\anaconda3\\envs\\TFgpu\\lib\\site-packages\\csbdeep\\io\\__init__.py:40: UserWarning: Converting data type from 'int32' to ImageJ-compatible 'int16'.\n",
      "  warnings.warn(\"Converting data type from '%s' to ImageJ-compatible '%s'.\" % (t, np.dtype(t_new)))\n"
     ]
    },
    {
     "name": "stdout",
     "output_type": "stream",
     "text": [
      "processing  0007\n"
     ]
    },
    {
     "name": "stderr",
     "output_type": "stream",
     "text": [
      "C:\\Users\\mengwei.HIVE2008\\anaconda3\\envs\\TFgpu\\lib\\site-packages\\ipykernel_launcher.py:28: UserWarning: Matplotlib is currently using agg, which is a non-GUI backend, so cannot show the figure.\n",
      "C:\\Users\\mengwei.HIVE2008\\anaconda3\\envs\\TFgpu\\lib\\site-packages\\csbdeep\\io\\__init__.py:40: UserWarning: Converting data type from 'int32' to ImageJ-compatible 'int16'.\n",
      "  warnings.warn(\"Converting data type from '%s' to ImageJ-compatible '%s'.\" % (t, np.dtype(t_new)))\n"
     ]
    },
    {
     "name": "stdout",
     "output_type": "stream",
     "text": [
      "processing  0008\n"
     ]
    },
    {
     "name": "stderr",
     "output_type": "stream",
     "text": [
      "C:\\Users\\mengwei.HIVE2008\\anaconda3\\envs\\TFgpu\\lib\\site-packages\\ipykernel_launcher.py:28: UserWarning: Matplotlib is currently using agg, which is a non-GUI backend, so cannot show the figure.\n",
      "C:\\Users\\mengwei.HIVE2008\\anaconda3\\envs\\TFgpu\\lib\\site-packages\\csbdeep\\io\\__init__.py:40: UserWarning: Converting data type from 'int32' to ImageJ-compatible 'int16'.\n",
      "  warnings.warn(\"Converting data type from '%s' to ImageJ-compatible '%s'.\" % (t, np.dtype(t_new)))\n"
     ]
    },
    {
     "name": "stdout",
     "output_type": "stream",
     "text": [
      "processing  0009\n"
     ]
    },
    {
     "name": "stderr",
     "output_type": "stream",
     "text": [
      "C:\\Users\\mengwei.HIVE2008\\anaconda3\\envs\\TFgpu\\lib\\site-packages\\ipykernel_launcher.py:28: UserWarning: Matplotlib is currently using agg, which is a non-GUI backend, so cannot show the figure.\n",
      "C:\\Users\\mengwei.HIVE2008\\anaconda3\\envs\\TFgpu\\lib\\site-packages\\csbdeep\\io\\__init__.py:40: UserWarning: Converting data type from 'int32' to ImageJ-compatible 'int16'.\n",
      "  warnings.warn(\"Converting data type from '%s' to ImageJ-compatible '%s'.\" % (t, np.dtype(t_new)))\n"
     ]
    },
    {
     "name": "stdout",
     "output_type": "stream",
     "text": [
      "processing  0010\n"
     ]
    },
    {
     "name": "stderr",
     "output_type": "stream",
     "text": [
      "C:\\Users\\mengwei.HIVE2008\\anaconda3\\envs\\TFgpu\\lib\\site-packages\\ipykernel_launcher.py:28: UserWarning: Matplotlib is currently using agg, which is a non-GUI backend, so cannot show the figure.\n",
      "C:\\Users\\mengwei.HIVE2008\\anaconda3\\envs\\TFgpu\\lib\\site-packages\\csbdeep\\io\\__init__.py:40: UserWarning: Converting data type from 'int32' to ImageJ-compatible 'int16'.\n",
      "  warnings.warn(\"Converting data type from '%s' to ImageJ-compatible '%s'.\" % (t, np.dtype(t_new)))\n"
     ]
    },
    {
     "name": "stdout",
     "output_type": "stream",
     "text": [
      "processing  0011\n"
     ]
    },
    {
     "name": "stderr",
     "output_type": "stream",
     "text": [
      "C:\\Users\\mengwei.HIVE2008\\anaconda3\\envs\\TFgpu\\lib\\site-packages\\ipykernel_launcher.py:28: UserWarning: Matplotlib is currently using agg, which is a non-GUI backend, so cannot show the figure.\n",
      "C:\\Users\\mengwei.HIVE2008\\anaconda3\\envs\\TFgpu\\lib\\site-packages\\csbdeep\\io\\__init__.py:40: UserWarning: Converting data type from 'int32' to ImageJ-compatible 'int16'.\n",
      "  warnings.warn(\"Converting data type from '%s' to ImageJ-compatible '%s'.\" % (t, np.dtype(t_new)))\n"
     ]
    },
    {
     "name": "stdout",
     "output_type": "stream",
     "text": [
      "processing  0012\n"
     ]
    },
    {
     "name": "stderr",
     "output_type": "stream",
     "text": [
      "C:\\Users\\mengwei.HIVE2008\\anaconda3\\envs\\TFgpu\\lib\\site-packages\\ipykernel_launcher.py:28: UserWarning: Matplotlib is currently using agg, which is a non-GUI backend, so cannot show the figure.\n",
      "C:\\Users\\mengwei.HIVE2008\\anaconda3\\envs\\TFgpu\\lib\\site-packages\\csbdeep\\io\\__init__.py:40: UserWarning: Converting data type from 'int32' to ImageJ-compatible 'int16'.\n",
      "  warnings.warn(\"Converting data type from '%s' to ImageJ-compatible '%s'.\" % (t, np.dtype(t_new)))\n"
     ]
    },
    {
     "name": "stdout",
     "output_type": "stream",
     "text": [
      "processing  0013\n"
     ]
    },
    {
     "name": "stderr",
     "output_type": "stream",
     "text": [
      "C:\\Users\\mengwei.HIVE2008\\anaconda3\\envs\\TFgpu\\lib\\site-packages\\ipykernel_launcher.py:28: UserWarning: Matplotlib is currently using agg, which is a non-GUI backend, so cannot show the figure.\n",
      "C:\\Users\\mengwei.HIVE2008\\anaconda3\\envs\\TFgpu\\lib\\site-packages\\csbdeep\\io\\__init__.py:40: UserWarning: Converting data type from 'int32' to ImageJ-compatible 'int16'.\n",
      "  warnings.warn(\"Converting data type from '%s' to ImageJ-compatible '%s'.\" % (t, np.dtype(t_new)))\n"
     ]
    },
    {
     "name": "stdout",
     "output_type": "stream",
     "text": [
      "processing  0014\n"
     ]
    },
    {
     "name": "stderr",
     "output_type": "stream",
     "text": [
      "C:\\Users\\mengwei.HIVE2008\\anaconda3\\envs\\TFgpu\\lib\\site-packages\\ipykernel_launcher.py:28: UserWarning: Matplotlib is currently using agg, which is a non-GUI backend, so cannot show the figure.\n",
      "C:\\Users\\mengwei.HIVE2008\\anaconda3\\envs\\TFgpu\\lib\\site-packages\\csbdeep\\io\\__init__.py:40: UserWarning: Converting data type from 'int32' to ImageJ-compatible 'int16'.\n",
      "  warnings.warn(\"Converting data type from '%s' to ImageJ-compatible '%s'.\" % (t, np.dtype(t_new)))\n"
     ]
    },
    {
     "name": "stdout",
     "output_type": "stream",
     "text": [
      "processing  0015\n"
     ]
    },
    {
     "name": "stderr",
     "output_type": "stream",
     "text": [
      "C:\\Users\\mengwei.HIVE2008\\anaconda3\\envs\\TFgpu\\lib\\site-packages\\ipykernel_launcher.py:28: UserWarning: Matplotlib is currently using agg, which is a non-GUI backend, so cannot show the figure.\n",
      "C:\\Users\\mengwei.HIVE2008\\anaconda3\\envs\\TFgpu\\lib\\site-packages\\csbdeep\\io\\__init__.py:40: UserWarning: Converting data type from 'int32' to ImageJ-compatible 'int16'.\n",
      "  warnings.warn(\"Converting data type from '%s' to ImageJ-compatible '%s'.\" % (t, np.dtype(t_new)))\n"
     ]
    },
    {
     "name": "stdout",
     "output_type": "stream",
     "text": [
      "processing  0016\n"
     ]
    },
    {
     "name": "stderr",
     "output_type": "stream",
     "text": [
      "C:\\Users\\mengwei.HIVE2008\\anaconda3\\envs\\TFgpu\\lib\\site-packages\\ipykernel_launcher.py:28: UserWarning: Matplotlib is currently using agg, which is a non-GUI backend, so cannot show the figure.\n",
      "C:\\Users\\mengwei.HIVE2008\\anaconda3\\envs\\TFgpu\\lib\\site-packages\\csbdeep\\io\\__init__.py:40: UserWarning: Converting data type from 'int32' to ImageJ-compatible 'int16'.\n",
      "  warnings.warn(\"Converting data type from '%s' to ImageJ-compatible '%s'.\" % (t, np.dtype(t_new)))\n"
     ]
    },
    {
     "name": "stdout",
     "output_type": "stream",
     "text": [
      "processing  0017\n"
     ]
    },
    {
     "name": "stderr",
     "output_type": "stream",
     "text": [
      "C:\\Users\\mengwei.HIVE2008\\anaconda3\\envs\\TFgpu\\lib\\site-packages\\ipykernel_launcher.py:28: UserWarning: Matplotlib is currently using agg, which is a non-GUI backend, so cannot show the figure.\n",
      "C:\\Users\\mengwei.HIVE2008\\anaconda3\\envs\\TFgpu\\lib\\site-packages\\csbdeep\\io\\__init__.py:40: UserWarning: Converting data type from 'int32' to ImageJ-compatible 'int16'.\n",
      "  warnings.warn(\"Converting data type from '%s' to ImageJ-compatible '%s'.\" % (t, np.dtype(t_new)))\n"
     ]
    },
    {
     "name": "stdout",
     "output_type": "stream",
     "text": [
      "processing  0018\n"
     ]
    },
    {
     "name": "stderr",
     "output_type": "stream",
     "text": [
      "C:\\Users\\mengwei.HIVE2008\\anaconda3\\envs\\TFgpu\\lib\\site-packages\\ipykernel_launcher.py:28: UserWarning: Matplotlib is currently using agg, which is a non-GUI backend, so cannot show the figure.\n",
      "C:\\Users\\mengwei.HIVE2008\\anaconda3\\envs\\TFgpu\\lib\\site-packages\\csbdeep\\io\\__init__.py:40: UserWarning: Converting data type from 'int32' to ImageJ-compatible 'int16'.\n",
      "  warnings.warn(\"Converting data type from '%s' to ImageJ-compatible '%s'.\" % (t, np.dtype(t_new)))\n"
     ]
    },
    {
     "name": "stdout",
     "output_type": "stream",
     "text": [
      "processing  0019\n"
     ]
    },
    {
     "name": "stderr",
     "output_type": "stream",
     "text": [
      "C:\\Users\\mengwei.HIVE2008\\anaconda3\\envs\\TFgpu\\lib\\site-packages\\ipykernel_launcher.py:28: UserWarning: Matplotlib is currently using agg, which is a non-GUI backend, so cannot show the figure.\n",
      "C:\\Users\\mengwei.HIVE2008\\anaconda3\\envs\\TFgpu\\lib\\site-packages\\csbdeep\\io\\__init__.py:40: UserWarning: Converting data type from 'int32' to ImageJ-compatible 'int16'.\n",
      "  warnings.warn(\"Converting data type from '%s' to ImageJ-compatible '%s'.\" % (t, np.dtype(t_new)))\n"
     ]
    },
    {
     "name": "stdout",
     "output_type": "stream",
     "text": [
      "processing  0020\n"
     ]
    },
    {
     "name": "stderr",
     "output_type": "stream",
     "text": [
      "C:\\Users\\mengwei.HIVE2008\\anaconda3\\envs\\TFgpu\\lib\\site-packages\\ipykernel_launcher.py:28: UserWarning: Matplotlib is currently using agg, which is a non-GUI backend, so cannot show the figure.\n",
      "C:\\Users\\mengwei.HIVE2008\\anaconda3\\envs\\TFgpu\\lib\\site-packages\\csbdeep\\io\\__init__.py:40: UserWarning: Converting data type from 'int32' to ImageJ-compatible 'int16'.\n",
      "  warnings.warn(\"Converting data type from '%s' to ImageJ-compatible '%s'.\" % (t, np.dtype(t_new)))\n"
     ]
    },
    {
     "name": "stdout",
     "output_type": "stream",
     "text": [
      "processing  0021\n"
     ]
    },
    {
     "name": "stderr",
     "output_type": "stream",
     "text": [
      "C:\\Users\\mengwei.HIVE2008\\anaconda3\\envs\\TFgpu\\lib\\site-packages\\ipykernel_launcher.py:12: RuntimeWarning: More than 20 figures have been opened. Figures created through the pyplot interface (`matplotlib.pyplot.figure`) are retained until explicitly closed and may consume too much memory. (To control this warning, see the rcParam `figure.max_open_warning`).\n",
      "  if sys.path[0] == '':\n",
      "C:\\Users\\mengwei.HIVE2008\\anaconda3\\envs\\TFgpu\\lib\\site-packages\\ipykernel_launcher.py:28: UserWarning: Matplotlib is currently using agg, which is a non-GUI backend, so cannot show the figure.\n",
      "C:\\Users\\mengwei.HIVE2008\\anaconda3\\envs\\TFgpu\\lib\\site-packages\\csbdeep\\io\\__init__.py:40: UserWarning: Converting data type from 'int32' to ImageJ-compatible 'int16'.\n",
      "  warnings.warn(\"Converting data type from '%s' to ImageJ-compatible '%s'.\" % (t, np.dtype(t_new)))\n"
     ]
    },
    {
     "name": "stdout",
     "output_type": "stream",
     "text": [
      "processing  0022\n"
     ]
    },
    {
     "name": "stderr",
     "output_type": "stream",
     "text": [
      "C:\\Users\\mengwei.HIVE2008\\anaconda3\\envs\\TFgpu\\lib\\site-packages\\ipykernel_launcher.py:12: RuntimeWarning: More than 20 figures have been opened. Figures created through the pyplot interface (`matplotlib.pyplot.figure`) are retained until explicitly closed and may consume too much memory. (To control this warning, see the rcParam `figure.max_open_warning`).\n",
      "  if sys.path[0] == '':\n",
      "C:\\Users\\mengwei.HIVE2008\\anaconda3\\envs\\TFgpu\\lib\\site-packages\\ipykernel_launcher.py:28: UserWarning: Matplotlib is currently using agg, which is a non-GUI backend, so cannot show the figure.\n",
      "C:\\Users\\mengwei.HIVE2008\\anaconda3\\envs\\TFgpu\\lib\\site-packages\\csbdeep\\io\\__init__.py:40: UserWarning: Converting data type from 'int32' to ImageJ-compatible 'int16'.\n",
      "  warnings.warn(\"Converting data type from '%s' to ImageJ-compatible '%s'.\" % (t, np.dtype(t_new)))\n"
     ]
    },
    {
     "name": "stdout",
     "output_type": "stream",
     "text": [
      "processing  0023\n"
     ]
    },
    {
     "name": "stderr",
     "output_type": "stream",
     "text": [
      "C:\\Users\\mengwei.HIVE2008\\anaconda3\\envs\\TFgpu\\lib\\site-packages\\ipykernel_launcher.py:12: RuntimeWarning: More than 20 figures have been opened. Figures created through the pyplot interface (`matplotlib.pyplot.figure`) are retained until explicitly closed and may consume too much memory. (To control this warning, see the rcParam `figure.max_open_warning`).\n",
      "  if sys.path[0] == '':\n",
      "C:\\Users\\mengwei.HIVE2008\\anaconda3\\envs\\TFgpu\\lib\\site-packages\\ipykernel_launcher.py:28: UserWarning: Matplotlib is currently using agg, which is a non-GUI backend, so cannot show the figure.\n",
      "C:\\Users\\mengwei.HIVE2008\\anaconda3\\envs\\TFgpu\\lib\\site-packages\\csbdeep\\io\\__init__.py:40: UserWarning: Converting data type from 'int32' to ImageJ-compatible 'int16'.\n",
      "  warnings.warn(\"Converting data type from '%s' to ImageJ-compatible '%s'.\" % (t, np.dtype(t_new)))\n"
     ]
    },
    {
     "name": "stdout",
     "output_type": "stream",
     "text": [
      "processing  0024\n"
     ]
    },
    {
     "name": "stderr",
     "output_type": "stream",
     "text": [
      "C:\\Users\\mengwei.HIVE2008\\anaconda3\\envs\\TFgpu\\lib\\site-packages\\ipykernel_launcher.py:12: RuntimeWarning: More than 20 figures have been opened. Figures created through the pyplot interface (`matplotlib.pyplot.figure`) are retained until explicitly closed and may consume too much memory. (To control this warning, see the rcParam `figure.max_open_warning`).\n",
      "  if sys.path[0] == '':\n",
      "C:\\Users\\mengwei.HIVE2008\\anaconda3\\envs\\TFgpu\\lib\\site-packages\\ipykernel_launcher.py:28: UserWarning: Matplotlib is currently using agg, which is a non-GUI backend, so cannot show the figure.\n",
      "C:\\Users\\mengwei.HIVE2008\\anaconda3\\envs\\TFgpu\\lib\\site-packages\\csbdeep\\io\\__init__.py:40: UserWarning: Converting data type from 'int32' to ImageJ-compatible 'int16'.\n",
      "  warnings.warn(\"Converting data type from '%s' to ImageJ-compatible '%s'.\" % (t, np.dtype(t_new)))\n"
     ]
    },
    {
     "name": "stdout",
     "output_type": "stream",
     "text": [
      "processing  0025\n"
     ]
    },
    {
     "name": "stderr",
     "output_type": "stream",
     "text": [
      "C:\\Users\\mengwei.HIVE2008\\anaconda3\\envs\\TFgpu\\lib\\site-packages\\ipykernel_launcher.py:12: RuntimeWarning: More than 20 figures have been opened. Figures created through the pyplot interface (`matplotlib.pyplot.figure`) are retained until explicitly closed and may consume too much memory. (To control this warning, see the rcParam `figure.max_open_warning`).\n",
      "  if sys.path[0] == '':\n",
      "C:\\Users\\mengwei.HIVE2008\\anaconda3\\envs\\TFgpu\\lib\\site-packages\\ipykernel_launcher.py:28: UserWarning: Matplotlib is currently using agg, which is a non-GUI backend, so cannot show the figure.\n",
      "C:\\Users\\mengwei.HIVE2008\\anaconda3\\envs\\TFgpu\\lib\\site-packages\\csbdeep\\io\\__init__.py:40: UserWarning: Converting data type from 'int32' to ImageJ-compatible 'int16'.\n",
      "  warnings.warn(\"Converting data type from '%s' to ImageJ-compatible '%s'.\" % (t, np.dtype(t_new)))\n"
     ]
    },
    {
     "name": "stdout",
     "output_type": "stream",
     "text": [
      "processing  0026\n"
     ]
    },
    {
     "name": "stderr",
     "output_type": "stream",
     "text": [
      "C:\\Users\\mengwei.HIVE2008\\anaconda3\\envs\\TFgpu\\lib\\site-packages\\ipykernel_launcher.py:12: RuntimeWarning: More than 20 figures have been opened. Figures created through the pyplot interface (`matplotlib.pyplot.figure`) are retained until explicitly closed and may consume too much memory. (To control this warning, see the rcParam `figure.max_open_warning`).\n",
      "  if sys.path[0] == '':\n",
      "C:\\Users\\mengwei.HIVE2008\\anaconda3\\envs\\TFgpu\\lib\\site-packages\\ipykernel_launcher.py:28: UserWarning: Matplotlib is currently using agg, which is a non-GUI backend, so cannot show the figure.\n",
      "C:\\Users\\mengwei.HIVE2008\\anaconda3\\envs\\TFgpu\\lib\\site-packages\\csbdeep\\io\\__init__.py:40: UserWarning: Converting data type from 'int32' to ImageJ-compatible 'int16'.\n",
      "  warnings.warn(\"Converting data type from '%s' to ImageJ-compatible '%s'.\" % (t, np.dtype(t_new)))\n"
     ]
    },
    {
     "name": "stdout",
     "output_type": "stream",
     "text": [
      "processing  0027\n"
     ]
    },
    {
     "name": "stderr",
     "output_type": "stream",
     "text": [
      "C:\\Users\\mengwei.HIVE2008\\anaconda3\\envs\\TFgpu\\lib\\site-packages\\ipykernel_launcher.py:12: RuntimeWarning: More than 20 figures have been opened. Figures created through the pyplot interface (`matplotlib.pyplot.figure`) are retained until explicitly closed and may consume too much memory. (To control this warning, see the rcParam `figure.max_open_warning`).\n",
      "  if sys.path[0] == '':\n",
      "C:\\Users\\mengwei.HIVE2008\\anaconda3\\envs\\TFgpu\\lib\\site-packages\\ipykernel_launcher.py:28: UserWarning: Matplotlib is currently using agg, which is a non-GUI backend, so cannot show the figure.\n",
      "C:\\Users\\mengwei.HIVE2008\\anaconda3\\envs\\TFgpu\\lib\\site-packages\\csbdeep\\io\\__init__.py:40: UserWarning: Converting data type from 'int32' to ImageJ-compatible 'int16'.\n",
      "  warnings.warn(\"Converting data type from '%s' to ImageJ-compatible '%s'.\" % (t, np.dtype(t_new)))\n"
     ]
    },
    {
     "name": "stdout",
     "output_type": "stream",
     "text": [
      "processing  0028\n"
     ]
    },
    {
     "name": "stderr",
     "output_type": "stream",
     "text": [
      "C:\\Users\\mengwei.HIVE2008\\anaconda3\\envs\\TFgpu\\lib\\site-packages\\ipykernel_launcher.py:12: RuntimeWarning: More than 20 figures have been opened. Figures created through the pyplot interface (`matplotlib.pyplot.figure`) are retained until explicitly closed and may consume too much memory. (To control this warning, see the rcParam `figure.max_open_warning`).\n",
      "  if sys.path[0] == '':\n"
     ]
    }
   ],
   "source": [
    "%matplotlib agg\n",
    "%matplotlib agg\n",
    "\n",
    "ii = 0\n",
    "for f in X:\n",
    "    ii = ii + 1\n",
    "    print(\"processing \",'{:0>4}'.format(str(ii)))\n",
    "    img = normalize(X[ii-1], 1,99.8, axis=axis_norm) # image\n",
    "    labels, polygons = model.predict_instances(img)\n",
    "     \n",
    "    # quality check\n",
    "    plt.figure(figsize=(70,100))\n",
    "    img_show = img if img.ndim==2 else img[...,0]\n",
    "    coord, points, prob = polygons['coord'], polygons['points'], polygons['prob']\n",
    "    plt.subplot(121); plt.imshow(img_show, cmap='gray'); plt.axis('off')\n",
    "    a = plt.axis()\n",
    "    _draw_polygons(coord, points, prob, show_dist=True)\n",
    "    plt.axis(a)\n",
    "    plt.title('Show nRays',fontsize=50)\n",
    "    plt.subplot(122); plt.imshow(img_show, cmap='gray'); plt.axis('off')\n",
    "    lbl_camp = random_label_cmap()\n",
    "    plt.imshow(labels, cmap=lbl_camp, alpha=0.5)\n",
    "    plt.tight_layout()\n",
    "    plt.title('Labels',fontsize=50)\n",
    "    complete_save_q_path = os.path.join(save_q_path,'overlay_%s.png'%'{:0>4}'.format(str(ii))) \n",
    "    # save plot\n",
    "    plt.savefig(complete_save_q_path)\n",
    "    plt.show()\n",
    "        \n",
    "    # save label, roi\n",
    "    complete_save_label_path = os.path.join(save_label_path,'img_labels_%s.tif'%'{:0>4}'.format(str(ii)))  \n",
    "    save_tiff_imagej_compatible(complete_save_label_path, labels, axes='YX')\n",
    "    complete_save_roi_path = os.path.join(save_roi_path,'img_rois_%s.zip'%'{:0>4}'.format(str(ii)))  \n",
    "    export_imagej_rois(complete_save_roi_path, polygons['coord'])\n",
    "print(\"Finished\")"
   ]
  }
 ],
 "metadata": {
  "kernelspec": {
   "display_name": "Python (TFgpu)",
   "language": "python",
   "name": "tfgpu"
  },
  "language_info": {
   "codemirror_mode": {
    "name": "ipython",
    "version": 3
   },
   "file_extension": ".py",
   "mimetype": "text/x-python",
   "name": "python",
   "nbconvert_exporter": "python",
   "pygments_lexer": "ipython3",
   "version": "3.7.7"
  }
 },
 "nbformat": 4,
 "nbformat_minor": 2
}
